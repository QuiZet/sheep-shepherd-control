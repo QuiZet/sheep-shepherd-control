{
 "cells": [
  {
   "cell_type": "code",
   "execution_count": 1,
   "metadata": {},
   "outputs": [],
   "source": [
    "import torch\n",
    "import torch.nn as nn\n",
    "import matplotlib.pyplot as plt\n",
    "from scipy.special import erf\n",
    "import torchdiffeq\n",
    "from torchdiffeq import odeint_adjoint, odeint\n",
    "import numpy as np"
   ]
  },
  {
   "cell_type": "markdown",
   "metadata": {},
   "source": [
    "### Initialize state"
   ]
  },
  {
   "cell_type": "code",
   "execution_count": 2,
   "metadata": {},
   "outputs": [],
   "source": [
    "n_sheeps = 40\n",
    "n_sheperds = 6"
   ]
  },
  {
   "cell_type": "code",
   "execution_count": 3,
   "metadata": {},
   "outputs": [
    {
     "data": {
      "text/plain": [
       "<matplotlib.collections.PathCollection at 0x7fcf7801c8e0>"
      ]
     },
     "execution_count": 3,
     "metadata": {},
     "output_type": "execute_result"
    },
    {
     "data": {
      "image/png": "[encoded data removed]",
      "text/plain": [
       "<Figure size 432x288 with 1 Axes>"
      ]
     },
     "metadata": {
      "needs_background": "light"
     },
     "output_type": "display_data"
    }
   ],
   "source": [
    "A = torch.randn((n_sheeps, 2))/2\n",
    "S = torch.randn((n_sheperds, 2))*3\n",
    "V = torch.randn((n_sheeps, 2))/4\n",
    "A_COM = A.mean(dim=0)\n",
    "S_COM = S.mean(dim=0)\n",
    "\n",
    "plt.scatter(A[:,0],A[:,1])\n",
    "plt.scatter(S[:,0],S[:,1])"
   ]
  },
  {
   "cell_type": "markdown",
   "metadata": {},
   "source": [
    "### Forces & Functions"
   ]
  },
  {
   "cell_type": "code",
   "execution_count": 4,
   "metadata": {},
   "outputs": [
    {
     "name": "stdout",
     "output_type": "stream",
     "text": [
      "tensor([[-3.7151e-03, -6.7262e-03],\n",
      "        [ 2.6738e-04, -9.2054e-02],\n",
      "        [-1.1698e-02,  2.3384e-02],\n",
      "        [ 4.1074e-03, -7.0416e-02],\n",
      "        [ 2.7765e-02, -1.0420e-01],\n",
      "        [ 4.6623e-03, -1.0975e-01],\n",
      "        [-5.9521e-03, -1.6844e-02],\n",
      "        [-2.9691e-02, -4.3302e-02],\n",
      "        [-9.6202e-03, -7.1596e-03],\n",
      "        [ 3.4559e-03, -5.8397e-02],\n",
      "        [ 6.2454e-03, -2.6564e-02],\n",
      "        [ 1.1716e-02, -3.3299e-02],\n",
      "        [-6.3710e-05, -4.1553e-03],\n",
      "        [-6.8599e-03, -8.0047e-02],\n",
      "        [-9.2056e-03, -1.1497e-02],\n",
      "        [-1.1536e-02, -3.4396e-02],\n",
      "        [-1.2591e-02,  7.0211e-05],\n",
      "        [ 1.4371e-02, -2.4223e-02],\n",
      "        [-1.5090e-02, -5.8598e-02],\n",
      "        [-8.9507e-03, -2.6889e-02],\n",
      "        [ 2.3332e-04, -1.4394e-02],\n",
      "        [ 1.4378e-02, -1.1040e-02],\n",
      "        [-1.1098e-02, -3.3371e-02],\n",
      "        [-1.6154e-02,  4.9198e-03],\n",
      "        [ 3.6728e-02, -1.9335e-02],\n",
      "        [-1.8313e-02, -2.9348e-02],\n",
      "        [ 4.1652e-02, -1.3231e-01],\n",
      "        [-1.4217e-01, -1.2507e-01],\n",
      "        [ 1.1690e-02,  1.9996e-02],\n",
      "        [-2.7598e-02, -5.4606e-03],\n",
      "        [-1.3388e-02, -8.4655e-03],\n",
      "        [-1.0845e-02, -2.6090e-02],\n",
      "        [-1.0539e-02, -2.5968e-02],\n",
      "        [ 3.0969e-02, -9.9756e-03],\n",
      "        [-8.4226e-03, -1.1673e-02],\n",
      "        [-1.6586e-03, -1.5068e-02],\n",
      "        [ 1.1938e-01, -9.9830e-02],\n",
      "        [-1.0018e-03,  8.3132e-03],\n",
      "        [-1.0651e-02, -8.6626e-03],\n",
      "        [-9.6239e-03, -1.4078e-02]])\n"
     ]
    },
    {
     "data": {
      "text/plain": [
       "<matplotlib.collections.PathCollection at 0x7fcfb82c40d0>"
      ]
     },
     "execution_count": 4,
     "metadata": {},
     "output_type": "execute_result"
    },
    {
     "data": {
      "image/png": "[encoded data removed]",
      "text/plain": [
       "<Figure size 432x288 with 1 Axes>"
      ]
     },
     "metadata": {
      "needs_background": "light"
     },
     "output_type": "display_data"
    }
   ],
   "source": [
    "def ss_repulsion(A, S, α=0.1, r=0.1):\n",
    "    F_r = torch.zeros_like(A)\n",
    "    for s in S:\n",
    "        Δ = A - s\n",
    "        d = torch.norm(Δ, p=2, dim=-1, keepdim=True) # torch.sqrt(torch.sum(Δ**2, 1))\n",
    "        f = α * Δ / (d**3)\n",
    "        F_r = F_r + f\n",
    "    #norm = torch.sum(F_r**2, 1)\n",
    "    #idx = norm > r\n",
    "    #F_r[idx] = torch.FloatTensor([0.1,0.1])\n",
    "#    for i in range(A.size()[0]):\n",
    "#        if F_r[i][0]**2+F_r[i][1]**2 > thresh_ss:\n",
    "#            F_r[i][0] = 0.01\n",
    "#            F_r[i][1] = 0.01\n",
    "    return F_r\n",
    "\n",
    "print(ss_repulsion(A, S))\n",
    "plt.scatter(ss_repulsion(A,S)[:,0],ss_repulsion(A,S)[:,1])"
   ]
  },
  {
   "cell_type": "code",
   "execution_count": 5,
   "metadata": {},
   "outputs": [
    {
     "data": {
      "text/plain": [
       "tensor([[ 2.8726e+00, -7.5483e+00],\n",
       "        [-2.5937e+00,  9.7554e-01],\n",
       "        [ 1.8946e+00, -2.0493e+00],\n",
       "        [ 4.3748e+00,  5.9562e+00],\n",
       "        [ 6.3262e+00, -2.5733e+00],\n",
       "        [ 1.8747e+00,  2.3482e+01],\n",
       "        [ 2.6747e+00,  1.3981e-01],\n",
       "        [-4.4168e+00,  2.9955e+00],\n",
       "        [ 1.9631e+00, -1.0608e+01],\n",
       "        [ 6.3739e+00, -1.5393e+01],\n",
       "        [-3.1642e-02, -2.8883e+00],\n",
       "        [ 2.3337e+00,  6.6067e+00],\n",
       "        [ 5.3259e+00, -2.1931e+00],\n",
       "        [-1.5597e+01, -2.5731e+00],\n",
       "        [-1.0537e+01, -1.0117e+01],\n",
       "        [-1.2702e+02,  2.2940e+02],\n",
       "        [-1.2254e-01, -3.0486e+00],\n",
       "        [ 6.0336e+00,  1.7345e+00],\n",
       "        [-5.7416e+00,  2.6581e+00],\n",
       "        [ 2.6189e+01, -5.1537e+00],\n",
       "        [ 1.1504e+01,  2.8241e+00],\n",
       "        [ 4.5154e+00,  1.0366e-01],\n",
       "        [ 1.2137e+02, -2.0201e+02],\n",
       "        [ 1.4827e+00, -4.8242e+00],\n",
       "        [-9.6780e-01,  2.6108e+00],\n",
       "        [-6.6321e+00,  6.1050e-02],\n",
       "        [ 4.0980e+00,  1.5299e+01],\n",
       "        [-1.4490e+00,  2.2924e+00],\n",
       "        [ 1.4915e+00, -1.2701e-01],\n",
       "        [-1.1295e+00,  4.8743e-01],\n",
       "        [-2.0880e+00, -3.6844e-01],\n",
       "        [-4.0335e+02,  1.0179e+02],\n",
       "        [ 3.6981e+02, -1.2449e+02],\n",
       "        [ 5.5911e+00,  2.0818e-01],\n",
       "        [ 1.2054e+01,  3.4605e-01],\n",
       "        [-8.6942e+00, -3.6447e+00],\n",
       "        [ 1.6493e+00,  3.0751e+00],\n",
       "        [ 3.0558e+00, -1.1947e+00],\n",
       "        [-3.1594e+00, -2.4619e+00],\n",
       "        [-1.1325e+01,  2.2672e-01]])"
      ]
     },
     "execution_count": 5,
     "metadata": {},
     "output_type": "execute_result"
    }
   ],
   "source": [
    "def sheep_repulsion(A, β=0.1, r=0.5):\n",
    "    F_r = torch.zeros_like(A)\n",
    "    for a in A:\n",
    "        Δ = A - a\n",
    "        d = torch.norm(Δ, p=2, dim=-1, keepdim=True) # torch.sqrt(torch.sum(Δ**2, 1))\n",
    "        f = β * Δ / (d**3)\n",
    "        f = torch.nan_to_num(f)\n",
    "        #idx = d<r  \n",
    "        #f[idx.reshape(-1),:] = torch.zeros_like(a)\n",
    "        #print(f)\n",
    "        F_r += f\n",
    "    return F_r\n",
    "\n",
    "sheep_repulsion(A, β=0.1, r=0.5)"
   ]
  },
  {
   "cell_type": "code",
   "execution_count": 6,
   "metadata": {},
   "outputs": [
    {
     "data": {
      "text/plain": [
       "tensor([[-2.9870e-02,  4.1535e-02],\n",
       "        [ 1.0175e-02, -4.8134e-02],\n",
       "        [-9.7995e-02,  7.9034e-02],\n",
       "        [ 3.3639e-03, -3.7032e-02],\n",
       "        [-1.0068e-02, -5.7894e-02],\n",
       "        [ 7.6248e-03, -5.5650e-02],\n",
       "        [ 6.9326e-03,  2.9911e-02],\n",
       "        [ 7.2433e-02, -3.2258e-02],\n",
       "        [ 1.4600e-02,  6.2352e-02],\n",
       "        [ 1.3919e-03, -2.8707e-02],\n",
       "        [-2.7038e-02, -1.5598e-03],\n",
       "        [-3.1367e-02, -1.4308e-02],\n",
       "        [-5.2023e-02,  3.3645e-02],\n",
       "        [ 1.7602e-02, -4.2004e-02],\n",
       "        [ 2.5285e-02,  4.9154e-02],\n",
       "        [ 3.6429e-02, -2.8495e-03],\n",
       "        [ 1.2530e-04,  8.8073e-02],\n",
       "        [-4.9692e-02, -1.2055e-02],\n",
       "        [ 3.3243e-02, -2.9526e-02],\n",
       "        [ 2.9097e-02,  1.0567e-02],\n",
       "        [-2.7878e-02,  2.2237e-02],\n",
       "        [-7.5795e-02, -6.2973e-03],\n",
       "        [ 3.5441e-02, -1.1124e-03],\n",
       "        [-1.0512e-02,  1.0690e-01],\n",
       "        [-8.9327e-02, -5.2982e-02],\n",
       "        [ 6.7911e-02, -4.7468e-03],\n",
       "        [-1.0861e-02, -6.8192e-02],\n",
       "        [ 6.4973e-02, -9.7166e-02],\n",
       "        [-1.6827e-01,  1.4376e-02],\n",
       "        [ 1.7168e-01, -6.6426e-02],\n",
       "        [ 1.3424e-01,  1.9865e-02],\n",
       "        [ 3.8938e-02,  1.1223e-02],\n",
       "        [ 3.7427e-02,  1.1662e-02],\n",
       "        [-1.0532e-01, -4.8186e-02],\n",
       "        [ 1.6653e-02,  4.6739e-02],\n",
       "        [-1.8688e-02,  2.5217e-02],\n",
       "        [-4.4619e-02, -9.3233e-02],\n",
       "        [-8.5115e-02,  4.4087e-02],\n",
       "        [ 7.4417e-02,  6.2071e-02],\n",
       "        [ 3.4459e-02,  4.1668e-02]])"
      ]
     },
     "execution_count": 6,
     "metadata": {},
     "output_type": "execute_result"
    }
   ],
   "source": [
    "def sheep_cohesion(A, A_COM, γ = 0.1):\n",
    "    dA_COM = A_COM - A\n",
    "    F_c = γ * dA_COM\n",
    "    return F_c\n",
    "\n",
    "sheep_cohesion(A,A_COM)"
   ]
  },
  {
   "cell_type": "code",
   "execution_count": 7,
   "metadata": {},
   "outputs": [],
   "source": [
    "F_A = sheep_cohesion(A,A_COM) + sheep_repulsion(A) + ss_repulsion(A,S)"
   ]
  },
  {
   "cell_type": "markdown",
   "metadata": {},
   "source": [
    "### Gaussian distribution\n",
    "##### sigma = standard deviation\n",
    "##### mu = expected value = COM"
   ]
  },
  {
   "cell_type": "code",
   "execution_count": 8,
   "metadata": {},
   "outputs": [],
   "source": [
    "def gaussian(A, a_COM, sigma=0.1):\n",
    "    mu = a_COM\n",
    "    y = (1 / np.sqrt(2 * np.pi * sigma**2)) * np.exp(-(A-mu)**2 / (2 * sigma**2))\n",
    "    return y"
   ]
  },
  {
   "cell_type": "markdown",
   "metadata": {},
   "source": [
    "### Compose the vector field and the ODE\n",
    "\n",
    "$x \\mapsto \\dot x$\n",
    "\n",
    "$(A, s) \\mapsto (\\dot A, \\dot s)$"
   ]
  },
  {
   "cell_type": "code",
   "execution_count": 9,
   "metadata": {},
   "outputs": [],
   "source": [
    "class ODEFunc(nn.Module):\n",
    "    def __init__(self, π:nn.Module, n_sheeps:int, r=0.15):\n",
    "        super().__init__()\n",
    "        self.π = π\n",
    "        self.r = r\n",
    "        self.n_sheeps = n_sheeps\n",
    "    \n",
    "    def forward(self, t, X):\n",
    "        # A: batch, N_SHEEPS, 2\n",
    "        # V: batch, N_SHEEPS, 2\n",
    "        # s: batch, 1, 2\n",
    "        # x: batch, N_SHEEPS + 1, 2\n",
    "        # π: batch, 2(N_SHEEPS + 1) --> batch, 2 \n",
    "        \n",
    "        # unpack state\n",
    "        X = (A, V, S)\n",
    "        # compute forces\n",
    "        F_coh = sheep_cohesion(A,A_COM)\n",
    "        F_srep = sheep_repulsion(A, β=0.1, r=0.5)\n",
    "        F_ctrl = ss_repulsion(A, S, α=0.1, r=0.1)\n",
    "        # compute vector field\n",
    "        dAdt = V\n",
    "        dVdt = F_coh + 0.01*F_srep + F_ctrl \n",
    "        \n",
    "        # naive policy\n",
    "        z = torch.cat([A.reshape(1,-1), V.reshape(1,-1), S.reshape(1,-1)], 1)\n",
    "        dSdt = self.π(z).reshape(-1,2) #self.π(A, V, S)\n",
    "        return (dAdt, dVdt, dSdt)"
   ]
  },
  {
   "cell_type": "markdown",
   "metadata": {},
   "source": [
    "`nn.Linear(n, m)`\n",
    "\n",
    "$$\n",
    " y = W x + b\n",
    "$$\n",
    "\n",
    "with $x\\in R^n$ and $y\\in R^m$"
   ]
  },
  {
   "cell_type": "code",
   "execution_count": 10,
   "metadata": {},
   "outputs": [],
   "source": [
    "class PolicyNetwork(nn.Module):\n",
    "    def __init__(self, n_sheeps, n_shepherds, latent_dim=32, hid_dim=64):\n",
    "        super().__init__()\n",
    "        self.n_sheeps, self.n_shepherds = n_sheeps, n_shepherds\n",
    "        \n",
    "        self.l_A = nn.Linear(n_sheeps*2, latent_dim)\n",
    "        self.l_V = nn.Linear(n_sheeps*2, latent_dim)\n",
    "        self.l_S = nn.Linear(n_shepherds*2, latent_dim)\n",
    "        \n",
    "        self.policy_net = nn.Sequential(\n",
    "            nn.Linear(latent_dim, hid_dim),\n",
    "            nn.Tanh(),\n",
    "            nn.Linear(hid_dim, hid_dim),\n",
    "            nn.Tanh(),\n",
    "            nn.Linear(hid_dim, n_shepherds*2)\n",
    "        )\n",
    "        \n",
    "    def forward(self, A, V, S):\n",
    "        # A, V, S --> π(A,V,S)\n",
    "        # embed A, V and S in a latent space of dimension \"latent_dim\" then pass it to the policy net\n",
    "        A, V, S = A.reshape(-1, self.n_sheeps*2), V.reshape(-1, self.n_sheeps*2), S.reshape(-1, self.n_shepherds*2)\n",
    "        z = self.l_A(A) + self.l_V(V) + self.l_S(S)\n",
    "        return self.policy_net(z).reshape(-1, 2)\n",
    "        "
   ]
  },
  {
   "cell_type": "code",
   "execution_count": 11,
   "metadata": {},
   "outputs": [
    {
     "data": {
      "text/plain": [
       "PolicyNetwork(\n",
       "  (l_A): Linear(in_features=80, out_features=32, bias=True)\n",
       "  (l_V): Linear(in_features=80, out_features=32, bias=True)\n",
       "  (l_S): Linear(in_features=12, out_features=32, bias=True)\n",
       "  (policy_net): Sequential(\n",
       "    (0): Linear(in_features=32, out_features=64, bias=True)\n",
       "    (1): Tanh()\n",
       "    (2): Linear(in_features=64, out_features=64, bias=True)\n",
       "    (3): Tanh()\n",
       "    (4): Linear(in_features=64, out_features=12, bias=True)\n",
       "  )\n",
       ")"
      ]
     },
     "execution_count": 11,
     "metadata": {},
     "output_type": "execute_result"
    }
   ],
   "source": [
    "A0, V0, S0 = A, V, S\n",
    "X0 = (A0, V0, S0)\n",
    "π = PolicyNetwork(len(A), len(S))\n",
    "odefunc = ODEFunc(π, len(A))\n",
    "π"
   ]
  },
  {
   "cell_type": "code",
   "execution_count": 12,
   "metadata": {},
   "outputs": [
    {
     "ename": "TypeError",
     "evalue": "forward() missing 2 required positional arguments: 'V' and 'S'",
     "output_type": "error",
     "traceback": [
      "\u001b[0;31m---------------------------------------------------------------------------\u001b[0m",
      "\u001b[0;31mTypeError\u001b[0m                                 Traceback (most recent call last)",
      "\u001b[0;32m<ipython-input-12-e25b6cd1ac51>\u001b[0m in \u001b[0;36m<module>\u001b[0;34m\u001b[0m\n\u001b[1;32m      5\u001b[0m \u001b[0mX\u001b[0m \u001b[0;34m=\u001b[0m \u001b[0;34m(\u001b[0m\u001b[0mA\u001b[0m\u001b[0;34m,\u001b[0m \u001b[0mV\u001b[0m\u001b[0;34m,\u001b[0m \u001b[0mS\u001b[0m\u001b[0;34m)\u001b[0m\u001b[0;34m\u001b[0m\u001b[0;34m\u001b[0m\u001b[0m\n\u001b[1;32m      6\u001b[0m \u001b[0;34m\u001b[0m\u001b[0m\n\u001b[0;32m----> 7\u001b[0;31m \u001b[0m_\u001b[0m\u001b[0;34m,\u001b[0m\u001b[0m_\u001b[0m\u001b[0;34m,\u001b[0m\u001b[0my\u001b[0m \u001b[0;34m=\u001b[0m \u001b[0modefunc\u001b[0m\u001b[0;34m(\u001b[0m\u001b[0;36m0\u001b[0m\u001b[0;34m,\u001b[0m\u001b[0mX\u001b[0m\u001b[0;34m)\u001b[0m\u001b[0;34m\u001b[0m\u001b[0;34m\u001b[0m\u001b[0m\n\u001b[0m\u001b[1;32m      8\u001b[0m \u001b[0my\u001b[0m \u001b[0;34m=\u001b[0m \u001b[0my\u001b[0m\u001b[0;34m.\u001b[0m\u001b[0msum\u001b[0m\u001b[0;34m(\u001b[0m\u001b[0;34m)\u001b[0m\u001b[0;34m\u001b[0m\u001b[0;34m\u001b[0m\u001b[0m\n\u001b[1;32m      9\u001b[0m \u001b[0my\u001b[0m\u001b[0;34m.\u001b[0m\u001b[0mbackward\u001b[0m\u001b[0;34m(\u001b[0m\u001b[0;34m)\u001b[0m\u001b[0;34m\u001b[0m\u001b[0;34m\u001b[0m\u001b[0m\n",
      "\u001b[0;32m~/opt/anaconda3/lib/python3.8/site-packages/torch/nn/modules/module.py\u001b[0m in \u001b[0;36m_call_impl\u001b[0;34m(self, *input, **kwargs)\u001b[0m\n\u001b[1;32m   1049\u001b[0m         if not (self._backward_hooks or self._forward_hooks or self._forward_pre_hooks or _global_backward_hooks\n\u001b[1;32m   1050\u001b[0m                 or _global_forward_hooks or _global_forward_pre_hooks):\n\u001b[0;32m-> 1051\u001b[0;31m             \u001b[0;32mreturn\u001b[0m \u001b[0mforward_call\u001b[0m\u001b[0;34m(\u001b[0m\u001b[0;34m*\u001b[0m\u001b[0minput\u001b[0m\u001b[0;34m,\u001b[0m \u001b[0;34m**\u001b[0m\u001b[0mkwargs\u001b[0m\u001b[0;34m)\u001b[0m\u001b[0;34m\u001b[0m\u001b[0;34m\u001b[0m\u001b[0m\n\u001b[0m\u001b[1;32m   1052\u001b[0m         \u001b[0;31m# Do not call functions when jit is used\u001b[0m\u001b[0;34m\u001b[0m\u001b[0;34m\u001b[0m\u001b[0;34m\u001b[0m\u001b[0m\n\u001b[1;32m   1053\u001b[0m         \u001b[0mfull_backward_hooks\u001b[0m\u001b[0;34m,\u001b[0m \u001b[0mnon_full_backward_hooks\u001b[0m \u001b[0;34m=\u001b[0m \u001b[0;34m[\u001b[0m\u001b[0;34m]\u001b[0m\u001b[0;34m,\u001b[0m \u001b[0;34m[\u001b[0m\u001b[0;34m]\u001b[0m\u001b[0;34m\u001b[0m\u001b[0;34m\u001b[0m\u001b[0m\n",
      "\u001b[0;32m<ipython-input-9-4a6f46d7a3a1>\u001b[0m in \u001b[0;36mforward\u001b[0;34m(self, t, X)\u001b[0m\n\u001b[1;32m     25\u001b[0m         \u001b[0;31m# naive policy\u001b[0m\u001b[0;34m\u001b[0m\u001b[0;34m\u001b[0m\u001b[0;34m\u001b[0m\u001b[0m\n\u001b[1;32m     26\u001b[0m         \u001b[0mz\u001b[0m \u001b[0;34m=\u001b[0m \u001b[0mtorch\u001b[0m\u001b[0;34m.\u001b[0m\u001b[0mcat\u001b[0m\u001b[0;34m(\u001b[0m\u001b[0;34m[\u001b[0m\u001b[0mA\u001b[0m\u001b[0;34m.\u001b[0m\u001b[0mreshape\u001b[0m\u001b[0;34m(\u001b[0m\u001b[0;36m1\u001b[0m\u001b[0;34m,\u001b[0m\u001b[0;34m-\u001b[0m\u001b[0;36m1\u001b[0m\u001b[0;34m)\u001b[0m\u001b[0;34m,\u001b[0m \u001b[0mV\u001b[0m\u001b[0;34m.\u001b[0m\u001b[0mreshape\u001b[0m\u001b[0;34m(\u001b[0m\u001b[0;36m1\u001b[0m\u001b[0;34m,\u001b[0m\u001b[0;34m-\u001b[0m\u001b[0;36m1\u001b[0m\u001b[0;34m)\u001b[0m\u001b[0;34m,\u001b[0m \u001b[0mS\u001b[0m\u001b[0;34m.\u001b[0m\u001b[0mreshape\u001b[0m\u001b[0;34m(\u001b[0m\u001b[0;36m1\u001b[0m\u001b[0;34m,\u001b[0m\u001b[0;34m-\u001b[0m\u001b[0;36m1\u001b[0m\u001b[0;34m)\u001b[0m\u001b[0;34m]\u001b[0m\u001b[0;34m,\u001b[0m \u001b[0;36m1\u001b[0m\u001b[0;34m)\u001b[0m\u001b[0;34m\u001b[0m\u001b[0;34m\u001b[0m\u001b[0m\n\u001b[0;32m---> 27\u001b[0;31m         \u001b[0mdSdt\u001b[0m \u001b[0;34m=\u001b[0m \u001b[0mself\u001b[0m\u001b[0;34m.\u001b[0m\u001b[0mπ\u001b[0m\u001b[0;34m(\u001b[0m\u001b[0mz\u001b[0m\u001b[0;34m)\u001b[0m\u001b[0;34m.\u001b[0m\u001b[0mreshape\u001b[0m\u001b[0;34m(\u001b[0m\u001b[0;34m-\u001b[0m\u001b[0;36m1\u001b[0m\u001b[0;34m,\u001b[0m\u001b[0;36m2\u001b[0m\u001b[0;34m)\u001b[0m \u001b[0;31m#self.π(A, V, S)\u001b[0m\u001b[0;34m\u001b[0m\u001b[0;34m\u001b[0m\u001b[0m\n\u001b[0m\u001b[1;32m     28\u001b[0m         \u001b[0;32mreturn\u001b[0m \u001b[0;34m(\u001b[0m\u001b[0mdAdt\u001b[0m\u001b[0;34m,\u001b[0m \u001b[0mdVdt\u001b[0m\u001b[0;34m,\u001b[0m \u001b[0mdSdt\u001b[0m\u001b[0;34m)\u001b[0m\u001b[0;34m\u001b[0m\u001b[0;34m\u001b[0m\u001b[0m\n",
      "\u001b[0;32m~/opt/anaconda3/lib/python3.8/site-packages/torch/nn/modules/module.py\u001b[0m in \u001b[0;36m_call_impl\u001b[0;34m(self, *input, **kwargs)\u001b[0m\n\u001b[1;32m   1049\u001b[0m         if not (self._backward_hooks or self._forward_hooks or self._forward_pre_hooks or _global_backward_hooks\n\u001b[1;32m   1050\u001b[0m                 or _global_forward_hooks or _global_forward_pre_hooks):\n\u001b[0;32m-> 1051\u001b[0;31m             \u001b[0;32mreturn\u001b[0m \u001b[0mforward_call\u001b[0m\u001b[0;34m(\u001b[0m\u001b[0;34m*\u001b[0m\u001b[0minput\u001b[0m\u001b[0;34m,\u001b[0m \u001b[0;34m**\u001b[0m\u001b[0mkwargs\u001b[0m\u001b[0;34m)\u001b[0m\u001b[0;34m\u001b[0m\u001b[0;34m\u001b[0m\u001b[0m\n\u001b[0m\u001b[1;32m   1052\u001b[0m         \u001b[0;31m# Do not call functions when jit is used\u001b[0m\u001b[0;34m\u001b[0m\u001b[0;34m\u001b[0m\u001b[0;34m\u001b[0m\u001b[0m\n\u001b[1;32m   1053\u001b[0m         \u001b[0mfull_backward_hooks\u001b[0m\u001b[0;34m,\u001b[0m \u001b[0mnon_full_backward_hooks\u001b[0m \u001b[0;34m=\u001b[0m \u001b[0;34m[\u001b[0m\u001b[0;34m]\u001b[0m\u001b[0;34m,\u001b[0m \u001b[0;34m[\u001b[0m\u001b[0;34m]\u001b[0m\u001b[0;34m\u001b[0m\u001b[0;34m\u001b[0m\u001b[0m\n",
      "\u001b[0;31mTypeError\u001b[0m: forward() missing 2 required positional arguments: 'V' and 'S'"
     ]
    }
   ],
   "source": [
    "A = torch.randn((n_sheeps, 2))/2\n",
    "S = torch.randn((n_sheperds, 2))*3\n",
    "V = torch.randn((n_sheeps, 2))/4\n",
    "A, S, V = A.requires_grad_(True), S.requires_grad_(True), V.requires_grad_(True)\n",
    "X = (A, V, S)\n",
    "\n",
    "_,_,y = odefunc(0,X)\n",
    "y = y.sum()\n",
    "y.backward()\n",
    "A.grad"
   ]
  },
  {
   "cell_type": "code",
   "execution_count": 13,
   "metadata": {},
   "outputs": [],
   "source": [
    "def euler(f, X, t_span):\n",
    "    sol = tuple([el] for el in X)\n",
    "    x = X\n",
    "    for i in range(len(t_span)-1):\n",
    "        f_ = f(t_span[i], x)\n",
    "        x = tuple(el_x + (t_span[i+1] - t_span[i])*el_f for el_x, el_f in zip(x, f_))\n",
    "        for el_sol, el_x in zip(sol, x): el_sol.append(el_x) \n",
    "    sol = tuple(torch.stack(el_sol) for el_sol in sol)\n",
    "    return sol"
   ]
  },
  {
   "cell_type": "markdown",
   "metadata": {},
   "source": [
    "$$\n",
    "    ({\\tt ODEFunc}, [A_0, s_0]) \\mapsto [A(T), s(T)] \n",
    "$$\n",
    "\n",
    "$\\mapsto$: ODE solver"
   ]
  },
  {
   "cell_type": "code",
   "execution_count": 14,
   "metadata": {},
   "outputs": [],
   "source": [
    "t_span = torch.linspace(0, 5, 100)"
   ]
  },
  {
   "cell_type": "code",
   "execution_count": 15,
   "metadata": {},
   "outputs": [
    {
     "ename": "TypeError",
     "evalue": "forward() missing 2 required positional arguments: 'V' and 'S'",
     "output_type": "error",
     "traceback": [
      "\u001b[0;31m---------------------------------------------------------------------------\u001b[0m",
      "\u001b[0;31mTypeError\u001b[0m                                 Traceback (most recent call last)",
      "\u001b[0;32m<ipython-input-15-7973d86d99fa>\u001b[0m in \u001b[0;36m<module>\u001b[0;34m\u001b[0m\n\u001b[0;32m----> 1\u001b[0;31m \u001b[0msol\u001b[0m \u001b[0;34m=\u001b[0m \u001b[0meuler\u001b[0m\u001b[0;34m(\u001b[0m\u001b[0modefunc\u001b[0m\u001b[0;34m,\u001b[0m \u001b[0mX0\u001b[0m\u001b[0;34m,\u001b[0m \u001b[0mt_span\u001b[0m\u001b[0;34m)\u001b[0m\u001b[0;34m\u001b[0m\u001b[0;34m\u001b[0m\u001b[0m\n\u001b[0m\u001b[1;32m      2\u001b[0m \u001b[0msol_A\u001b[0m\u001b[0;34m,\u001b[0m \u001b[0msol_V\u001b[0m\u001b[0;34m,\u001b[0m \u001b[0msol_S\u001b[0m \u001b[0;34m=\u001b[0m \u001b[0msol\u001b[0m\u001b[0;34m\u001b[0m\u001b[0;34m\u001b[0m\u001b[0m\n\u001b[1;32m      3\u001b[0m \u001b[0msol_A\u001b[0m\u001b[0;34m,\u001b[0m \u001b[0msol_V\u001b[0m\u001b[0;34m,\u001b[0m \u001b[0msol_S\u001b[0m \u001b[0;34m=\u001b[0m \u001b[0msol_A\u001b[0m\u001b[0;34m.\u001b[0m\u001b[0mdetach\u001b[0m\u001b[0;34m(\u001b[0m\u001b[0;34m)\u001b[0m\u001b[0;34m,\u001b[0m \u001b[0msol_V\u001b[0m\u001b[0;34m.\u001b[0m\u001b[0mdetach\u001b[0m\u001b[0;34m(\u001b[0m\u001b[0;34m)\u001b[0m\u001b[0;34m,\u001b[0m \u001b[0msol_S\u001b[0m\u001b[0;34m.\u001b[0m\u001b[0mdetach\u001b[0m\u001b[0;34m(\u001b[0m\u001b[0;34m)\u001b[0m\u001b[0;34m\u001b[0m\u001b[0;34m\u001b[0m\u001b[0m\n\u001b[1;32m      4\u001b[0m \u001b[0;34m\u001b[0m\u001b[0m\n\u001b[1;32m      5\u001b[0m \u001b[0mplt\u001b[0m\u001b[0;34m.\u001b[0m\u001b[0mplot\u001b[0m\u001b[0;34m(\u001b[0m\u001b[0msol_A\u001b[0m\u001b[0;34m[\u001b[0m\u001b[0;34m:\u001b[0m\u001b[0;34m,\u001b[0m\u001b[0;34m:\u001b[0m\u001b[0;34m,\u001b[0m\u001b[0;36m0\u001b[0m\u001b[0;34m]\u001b[0m\u001b[0;34m,\u001b[0m \u001b[0msol_A\u001b[0m\u001b[0;34m[\u001b[0m\u001b[0;34m:\u001b[0m\u001b[0;34m,\u001b[0m\u001b[0;34m:\u001b[0m\u001b[0;34m,\u001b[0m\u001b[0;36m1\u001b[0m\u001b[0;34m]\u001b[0m\u001b[0;34m,\u001b[0m \u001b[0;34m'b'\u001b[0m\u001b[0;34m)\u001b[0m\u001b[0;34m;\u001b[0m\u001b[0;34m\u001b[0m\u001b[0;34m\u001b[0m\u001b[0m\n",
      "\u001b[0;32m<ipython-input-13-61573836b7c0>\u001b[0m in \u001b[0;36meuler\u001b[0;34m(f, X, t_span)\u001b[0m\n\u001b[1;32m      3\u001b[0m     \u001b[0mx\u001b[0m \u001b[0;34m=\u001b[0m \u001b[0mX\u001b[0m\u001b[0;34m\u001b[0m\u001b[0;34m\u001b[0m\u001b[0m\n\u001b[1;32m      4\u001b[0m     \u001b[0;32mfor\u001b[0m \u001b[0mi\u001b[0m \u001b[0;32min\u001b[0m \u001b[0mrange\u001b[0m\u001b[0;34m(\u001b[0m\u001b[0mlen\u001b[0m\u001b[0;34m(\u001b[0m\u001b[0mt_span\u001b[0m\u001b[0;34m)\u001b[0m\u001b[0;34m-\u001b[0m\u001b[0;36m1\u001b[0m\u001b[0;34m)\u001b[0m\u001b[0;34m:\u001b[0m\u001b[0;34m\u001b[0m\u001b[0;34m\u001b[0m\u001b[0m\n\u001b[0;32m----> 5\u001b[0;31m         \u001b[0mf_\u001b[0m \u001b[0;34m=\u001b[0m \u001b[0mf\u001b[0m\u001b[0;34m(\u001b[0m\u001b[0mt_span\u001b[0m\u001b[0;34m[\u001b[0m\u001b[0mi\u001b[0m\u001b[0;34m]\u001b[0m\u001b[0;34m,\u001b[0m \u001b[0mx\u001b[0m\u001b[0;34m)\u001b[0m\u001b[0;34m\u001b[0m\u001b[0;34m\u001b[0m\u001b[0m\n\u001b[0m\u001b[1;32m      6\u001b[0m         \u001b[0mx\u001b[0m \u001b[0;34m=\u001b[0m \u001b[0mtuple\u001b[0m\u001b[0;34m(\u001b[0m\u001b[0mel_x\u001b[0m \u001b[0;34m+\u001b[0m \u001b[0;34m(\u001b[0m\u001b[0mt_span\u001b[0m\u001b[0;34m[\u001b[0m\u001b[0mi\u001b[0m\u001b[0;34m+\u001b[0m\u001b[0;36m1\u001b[0m\u001b[0;34m]\u001b[0m \u001b[0;34m-\u001b[0m \u001b[0mt_span\u001b[0m\u001b[0;34m[\u001b[0m\u001b[0mi\u001b[0m\u001b[0;34m]\u001b[0m\u001b[0;34m)\u001b[0m\u001b[0;34m*\u001b[0m\u001b[0mel_f\u001b[0m \u001b[0;32mfor\u001b[0m \u001b[0mel_x\u001b[0m\u001b[0;34m,\u001b[0m \u001b[0mel_f\u001b[0m \u001b[0;32min\u001b[0m \u001b[0mzip\u001b[0m\u001b[0;34m(\u001b[0m\u001b[0mx\u001b[0m\u001b[0;34m,\u001b[0m \u001b[0mf_\u001b[0m\u001b[0;34m)\u001b[0m\u001b[0;34m)\u001b[0m\u001b[0;34m\u001b[0m\u001b[0;34m\u001b[0m\u001b[0m\n\u001b[1;32m      7\u001b[0m         \u001b[0;32mfor\u001b[0m \u001b[0mel_sol\u001b[0m\u001b[0;34m,\u001b[0m \u001b[0mel_x\u001b[0m \u001b[0;32min\u001b[0m \u001b[0mzip\u001b[0m\u001b[0;34m(\u001b[0m\u001b[0msol\u001b[0m\u001b[0;34m,\u001b[0m \u001b[0mx\u001b[0m\u001b[0;34m)\u001b[0m\u001b[0;34m:\u001b[0m \u001b[0mel_sol\u001b[0m\u001b[0;34m.\u001b[0m\u001b[0mappend\u001b[0m\u001b[0;34m(\u001b[0m\u001b[0mel_x\u001b[0m\u001b[0;34m)\u001b[0m\u001b[0;34m\u001b[0m\u001b[0;34m\u001b[0m\u001b[0m\n",
      "\u001b[0;32m~/opt/anaconda3/lib/python3.8/site-packages/torch/nn/modules/module.py\u001b[0m in \u001b[0;36m_call_impl\u001b[0;34m(self, *input, **kwargs)\u001b[0m\n\u001b[1;32m   1049\u001b[0m         if not (self._backward_hooks or self._forward_hooks or self._forward_pre_hooks or _global_backward_hooks\n\u001b[1;32m   1050\u001b[0m                 or _global_forward_hooks or _global_forward_pre_hooks):\n\u001b[0;32m-> 1051\u001b[0;31m             \u001b[0;32mreturn\u001b[0m \u001b[0mforward_call\u001b[0m\u001b[0;34m(\u001b[0m\u001b[0;34m*\u001b[0m\u001b[0minput\u001b[0m\u001b[0;34m,\u001b[0m \u001b[0;34m**\u001b[0m\u001b[0mkwargs\u001b[0m\u001b[0;34m)\u001b[0m\u001b[0;34m\u001b[0m\u001b[0;34m\u001b[0m\u001b[0m\n\u001b[0m\u001b[1;32m   1052\u001b[0m         \u001b[0;31m# Do not call functions when jit is used\u001b[0m\u001b[0;34m\u001b[0m\u001b[0;34m\u001b[0m\u001b[0;34m\u001b[0m\u001b[0m\n\u001b[1;32m   1053\u001b[0m         \u001b[0mfull_backward_hooks\u001b[0m\u001b[0;34m,\u001b[0m \u001b[0mnon_full_backward_hooks\u001b[0m \u001b[0;34m=\u001b[0m \u001b[0;34m[\u001b[0m\u001b[0;34m]\u001b[0m\u001b[0;34m,\u001b[0m \u001b[0;34m[\u001b[0m\u001b[0;34m]\u001b[0m\u001b[0;34m\u001b[0m\u001b[0;34m\u001b[0m\u001b[0m\n",
      "\u001b[0;32m<ipython-input-9-4a6f46d7a3a1>\u001b[0m in \u001b[0;36mforward\u001b[0;34m(self, t, X)\u001b[0m\n\u001b[1;32m     25\u001b[0m         \u001b[0;31m# naive policy\u001b[0m\u001b[0;34m\u001b[0m\u001b[0;34m\u001b[0m\u001b[0;34m\u001b[0m\u001b[0m\n\u001b[1;32m     26\u001b[0m         \u001b[0mz\u001b[0m \u001b[0;34m=\u001b[0m \u001b[0mtorch\u001b[0m\u001b[0;34m.\u001b[0m\u001b[0mcat\u001b[0m\u001b[0;34m(\u001b[0m\u001b[0;34m[\u001b[0m\u001b[0mA\u001b[0m\u001b[0;34m.\u001b[0m\u001b[0mreshape\u001b[0m\u001b[0;34m(\u001b[0m\u001b[0;36m1\u001b[0m\u001b[0;34m,\u001b[0m\u001b[0;34m-\u001b[0m\u001b[0;36m1\u001b[0m\u001b[0;34m)\u001b[0m\u001b[0;34m,\u001b[0m \u001b[0mV\u001b[0m\u001b[0;34m.\u001b[0m\u001b[0mreshape\u001b[0m\u001b[0;34m(\u001b[0m\u001b[0;36m1\u001b[0m\u001b[0;34m,\u001b[0m\u001b[0;34m-\u001b[0m\u001b[0;36m1\u001b[0m\u001b[0;34m)\u001b[0m\u001b[0;34m,\u001b[0m \u001b[0mS\u001b[0m\u001b[0;34m.\u001b[0m\u001b[0mreshape\u001b[0m\u001b[0;34m(\u001b[0m\u001b[0;36m1\u001b[0m\u001b[0;34m,\u001b[0m\u001b[0;34m-\u001b[0m\u001b[0;36m1\u001b[0m\u001b[0;34m)\u001b[0m\u001b[0;34m]\u001b[0m\u001b[0;34m,\u001b[0m \u001b[0;36m1\u001b[0m\u001b[0;34m)\u001b[0m\u001b[0;34m\u001b[0m\u001b[0;34m\u001b[0m\u001b[0m\n\u001b[0;32m---> 27\u001b[0;31m         \u001b[0mdSdt\u001b[0m \u001b[0;34m=\u001b[0m \u001b[0mself\u001b[0m\u001b[0;34m.\u001b[0m\u001b[0mπ\u001b[0m\u001b[0;34m(\u001b[0m\u001b[0mz\u001b[0m\u001b[0;34m)\u001b[0m\u001b[0;34m.\u001b[0m\u001b[0mreshape\u001b[0m\u001b[0;34m(\u001b[0m\u001b[0;34m-\u001b[0m\u001b[0;36m1\u001b[0m\u001b[0;34m,\u001b[0m\u001b[0;36m2\u001b[0m\u001b[0;34m)\u001b[0m \u001b[0;31m#self.π(A, V, S)\u001b[0m\u001b[0;34m\u001b[0m\u001b[0;34m\u001b[0m\u001b[0m\n\u001b[0m\u001b[1;32m     28\u001b[0m         \u001b[0;32mreturn\u001b[0m \u001b[0;34m(\u001b[0m\u001b[0mdAdt\u001b[0m\u001b[0;34m,\u001b[0m \u001b[0mdVdt\u001b[0m\u001b[0;34m,\u001b[0m \u001b[0mdSdt\u001b[0m\u001b[0;34m)\u001b[0m\u001b[0;34m\u001b[0m\u001b[0;34m\u001b[0m\u001b[0m\n",
      "\u001b[0;32m~/opt/anaconda3/lib/python3.8/site-packages/torch/nn/modules/module.py\u001b[0m in \u001b[0;36m_call_impl\u001b[0;34m(self, *input, **kwargs)\u001b[0m\n\u001b[1;32m   1049\u001b[0m         if not (self._backward_hooks or self._forward_hooks or self._forward_pre_hooks or _global_backward_hooks\n\u001b[1;32m   1050\u001b[0m                 or _global_forward_hooks or _global_forward_pre_hooks):\n\u001b[0;32m-> 1051\u001b[0;31m             \u001b[0;32mreturn\u001b[0m \u001b[0mforward_call\u001b[0m\u001b[0;34m(\u001b[0m\u001b[0;34m*\u001b[0m\u001b[0minput\u001b[0m\u001b[0;34m,\u001b[0m \u001b[0;34m**\u001b[0m\u001b[0mkwargs\u001b[0m\u001b[0;34m)\u001b[0m\u001b[0;34m\u001b[0m\u001b[0;34m\u001b[0m\u001b[0m\n\u001b[0m\u001b[1;32m   1052\u001b[0m         \u001b[0;31m# Do not call functions when jit is used\u001b[0m\u001b[0;34m\u001b[0m\u001b[0;34m\u001b[0m\u001b[0;34m\u001b[0m\u001b[0m\n\u001b[1;32m   1053\u001b[0m         \u001b[0mfull_backward_hooks\u001b[0m\u001b[0;34m,\u001b[0m \u001b[0mnon_full_backward_hooks\u001b[0m \u001b[0;34m=\u001b[0m \u001b[0;34m[\u001b[0m\u001b[0;34m]\u001b[0m\u001b[0;34m,\u001b[0m \u001b[0;34m[\u001b[0m\u001b[0;34m]\u001b[0m\u001b[0;34m\u001b[0m\u001b[0;34m\u001b[0m\u001b[0m\n",
      "\u001b[0;31mTypeError\u001b[0m: forward() missing 2 required positional arguments: 'V' and 'S'"
     ]
    }
   ],
   "source": [
    "sol = euler(odefunc, X0, t_span)\n",
    "sol_A, sol_V, sol_S = sol\n",
    "sol_A, sol_V, sol_S = sol_A.detach(), sol_V.detach(), sol_S.detach()\n",
    "\n",
    "plt.plot(sol_A[:,:,0], sol_A[:,:,1], 'b');\n",
    "plt.plot(sol_S[:,:,0], sol_S[:,:,1], 'r');"
   ]
  },
  {
   "cell_type": "markdown",
   "metadata": {},
   "source": [
    "### Train the policy $\\pi$"
   ]
  },
  {
   "cell_type": "code",
   "execution_count": 17,
   "metadata": {},
   "outputs": [
    {
     "name": "stdout",
     "output_type": "stream",
     "text": [
      "None\n",
      "None\n",
      "None\n",
      "None\n",
      "None\n",
      "None\n",
      "Noneh: 0,  loss:-0.3314548134803772\n",
      "None\n",
      "None\n",
      "None\n",
      "None\n",
      "None\n",
      "Noneh: 1,  loss:-0.3314548134803772\n",
      "None\n",
      "None\n",
      "None\n",
      "None\n",
      "None\n",
      "Noneh: 2,  loss:-0.3314548134803772\n",
      "None\n",
      "None\n",
      "None\n",
      "None\n",
      "None\n",
      "Noneh: 3,  loss:-0.3314548134803772\n",
      "None\n",
      "None\n",
      "None\n",
      "None\n",
      "None\n",
      "Noneh: 4,  loss:-0.3314548134803772\n",
      "None\n",
      "None\n",
      "None\n",
      "None\n",
      "None\n",
      "Noneh: 5,  loss:-0.3314548134803772\n",
      "None\n",
      "None\n",
      "None\n",
      "None\n",
      "None\n",
      "Noneh: 6,  loss:-0.3314548134803772\n",
      "None\n",
      "None\n",
      "None\n",
      "None\n",
      "None\n",
      "Noneh: 7,  loss:-0.3314548134803772\n",
      "None\n",
      "None\n",
      "None\n",
      "None\n",
      "None\n",
      "Noneh: 8,  loss:-0.3314548134803772\n",
      "None\n",
      "None\n",
      "None\n",
      "None\n",
      "None\n",
      "Noneh: 9,  loss:-0.3314548134803772\n",
      "None\n",
      "None\n",
      "None\n",
      "None\n",
      "None\n",
      "Noneh: 10,  loss:-0.3314548134803772\n",
      "None\n",
      "None\n",
      "None\n",
      "None\n",
      "None\n",
      "Noneh: 11,  loss:-0.3314548134803772\n",
      "None\n",
      "None\n",
      "None\n",
      "None\n",
      "None\n",
      "Noneh: 12,  loss:-0.3314548134803772\n",
      "None\n",
      "None\n",
      "None\n",
      "None\n",
      "None\n",
      "Noneh: 13,  loss:-0.3314548134803772\n",
      "None\n",
      "None\n",
      "None\n",
      "None\n",
      "None\n",
      "Noneh: 14,  loss:-0.3314548134803772\n",
      "None\n",
      "None\n",
      "None\n",
      "None\n",
      "None\n",
      "Noneh: 15,  loss:-0.3314548134803772\n",
      "None\n",
      "None\n",
      "None\n",
      "None\n",
      "None\n",
      "Noneh: 16,  loss:-0.3314548134803772\n",
      "None\n",
      "None\n",
      "None\n",
      "None\n",
      "None\n",
      "Noneh: 17,  loss:-0.3314548134803772\n",
      "None\n",
      "None\n",
      "None\n",
      "None\n",
      "None\n",
      "Noneh: 18,  loss:-0.3314548134803772\n",
      "None\n",
      "None\n",
      "None\n",
      "None\n",
      "None\n",
      "Noneh: 19,  loss:-0.3314548134803772\n",
      "None\n",
      "None\n",
      "None\n",
      "None\n",
      "None\n",
      "Noneh: 20,  loss:-0.3314548134803772\n",
      "None\n",
      "None\n",
      "None\n",
      "None\n",
      "None\n",
      "Noneh: 21,  loss:-0.3314548134803772\n",
      "None\n",
      "None\n",
      "None\n",
      "None\n",
      "None\n",
      "Noneh: 22,  loss:-0.3314548134803772\n",
      "None\n",
      "None\n",
      "None\n",
      "None\n",
      "None\n",
      "Noneh: 23,  loss:-0.3314548134803772\n",
      "None\n",
      "None\n",
      "None\n",
      "None\n",
      "None\n",
      "Noneh: 24,  loss:-0.3314548134803772\n",
      "None\n",
      "None\n",
      "None\n",
      "None\n",
      "None\n",
      "Noneh: 25,  loss:-0.3314548134803772\n",
      "None\n",
      "None\n",
      "None\n",
      "None\n",
      "None\n",
      "Noneh: 26,  loss:-0.3314548134803772\n",
      "None\n",
      "None\n",
      "None\n",
      "None\n",
      "None\n",
      "Noneh: 27,  loss:-0.3314548134803772\n",
      "None\n",
      "None\n",
      "None\n",
      "None\n",
      "None\n",
      "Noneh: 28,  loss:-0.3314548134803772\n",
      "None\n",
      "None\n",
      "None\n",
      "None\n",
      "None\n",
      "Noneh: 29,  loss:-0.3314548134803772\n",
      "None\n",
      "None\n",
      "None\n",
      "None\n",
      "None\n",
      "Noneh: 30,  loss:-0.3314548134803772\n",
      "None\n",
      "None\n",
      "None\n",
      "None\n",
      "None\n",
      "Noneh: 31,  loss:-0.3314548134803772\n",
      "None\n",
      "None\n",
      "None\n",
      "None\n",
      "None\n",
      "Noneh: 32,  loss:-0.3314548134803772\n",
      "None\n",
      "None\n",
      "None\n",
      "None\n",
      "None\n",
      "Noneh: 33,  loss:-0.3314548134803772\n",
      "None\n",
      "None\n",
      "None\n",
      "None\n",
      "None\n",
      "Noneh: 34,  loss:-0.3314548134803772\n",
      "None\n",
      "None\n",
      "None\n",
      "None\n",
      "None\n",
      "Noneh: 35,  loss:-0.3314548134803772\n",
      "None\n",
      "None\n",
      "None\n",
      "None\n",
      "None\n",
      "Noneh: 36,  loss:-0.3314548134803772\n",
      "None\n",
      "None\n",
      "None\n",
      "None\n",
      "None\n",
      "Noneh: 37,  loss:-0.3314548134803772\n",
      "None\n",
      "None\n",
      "None\n",
      "None\n",
      "None\n",
      "epoch: 38,  loss:-0.3314548134803772\r"
     ]
    },
    {
     "ename": "KeyboardInterrupt",
     "evalue": "",
     "output_type": "error",
     "traceback": [
      "\u001b[0;31m---------------------------------------------------------------------------\u001b[0m",
      "\u001b[0;31mKeyboardInterrupt\u001b[0m                         Traceback (most recent call last)",
      "\u001b[0;32m<ipython-input-17-0e2b44c06504>\u001b[0m in \u001b[0;36m<module>\u001b[0;34m\u001b[0m\n\u001b[1;32m     30\u001b[0m \u001b[0;34m\u001b[0m\u001b[0m\n\u001b[1;32m     31\u001b[0m     \u001b[0;31m# integrate ODE between 0 and T\u001b[0m\u001b[0;34m\u001b[0m\u001b[0;34m\u001b[0m\u001b[0;34m\u001b[0m\u001b[0m\n\u001b[0;32m---> 32\u001b[0;31m     \u001b[0msol\u001b[0m \u001b[0;34m=\u001b[0m \u001b[0meuler\u001b[0m\u001b[0;34m(\u001b[0m\u001b[0modefunc\u001b[0m\u001b[0;34m,\u001b[0m \u001b[0mX0\u001b[0m\u001b[0;34m,\u001b[0m \u001b[0mtorch\u001b[0m\u001b[0;34m.\u001b[0m\u001b[0mlinspace\u001b[0m\u001b[0;34m(\u001b[0m\u001b[0;36m0\u001b[0m\u001b[0;34m,\u001b[0m \u001b[0mT\u001b[0m\u001b[0;34m,\u001b[0m \u001b[0;36m30\u001b[0m\u001b[0;34m)\u001b[0m\u001b[0;34m)\u001b[0m\u001b[0;34m\u001b[0m\u001b[0;34m\u001b[0m\u001b[0m\n\u001b[0m\u001b[1;32m     33\u001b[0m     \u001b[0msol_A\u001b[0m\u001b[0;34m,\u001b[0m \u001b[0msol_V\u001b[0m\u001b[0;34m,\u001b[0m \u001b[0m_\u001b[0m \u001b[0;34m=\u001b[0m \u001b[0msol\u001b[0m\u001b[0;34m\u001b[0m\u001b[0;34m\u001b[0m\u001b[0m\n\u001b[1;32m     34\u001b[0m     \u001b[0mloss\u001b[0m \u001b[0;34m=\u001b[0m \u001b[0msol_A\u001b[0m\u001b[0;34m[\u001b[0m\u001b[0;34m-\u001b[0m\u001b[0;36m1\u001b[0m\u001b[0;34m]\u001b[0m\u001b[0;34m.\u001b[0m\u001b[0mmean\u001b[0m\u001b[0;34m(\u001b[0m\u001b[0;34m)\u001b[0m\u001b[0;34m\u001b[0m\u001b[0;34m\u001b[0m\u001b[0m\n",
      "\u001b[0;32m<ipython-input-13-61573836b7c0>\u001b[0m in \u001b[0;36meuler\u001b[0;34m(f, X, t_span)\u001b[0m\n\u001b[1;32m      3\u001b[0m     \u001b[0mx\u001b[0m \u001b[0;34m=\u001b[0m \u001b[0mX\u001b[0m\u001b[0;34m\u001b[0m\u001b[0;34m\u001b[0m\u001b[0m\n\u001b[1;32m      4\u001b[0m     \u001b[0;32mfor\u001b[0m \u001b[0mi\u001b[0m \u001b[0;32min\u001b[0m \u001b[0mrange\u001b[0m\u001b[0;34m(\u001b[0m\u001b[0mlen\u001b[0m\u001b[0;34m(\u001b[0m\u001b[0mt_span\u001b[0m\u001b[0;34m)\u001b[0m\u001b[0;34m-\u001b[0m\u001b[0;36m1\u001b[0m\u001b[0;34m)\u001b[0m\u001b[0;34m:\u001b[0m\u001b[0;34m\u001b[0m\u001b[0;34m\u001b[0m\u001b[0m\n\u001b[0;32m----> 5\u001b[0;31m         \u001b[0mf_\u001b[0m \u001b[0;34m=\u001b[0m \u001b[0mf\u001b[0m\u001b[0;34m(\u001b[0m\u001b[0mt_span\u001b[0m\u001b[0;34m[\u001b[0m\u001b[0mi\u001b[0m\u001b[0;34m]\u001b[0m\u001b[0;34m,\u001b[0m \u001b[0mx\u001b[0m\u001b[0;34m)\u001b[0m\u001b[0;34m\u001b[0m\u001b[0;34m\u001b[0m\u001b[0m\n\u001b[0m\u001b[1;32m      6\u001b[0m         \u001b[0mx\u001b[0m \u001b[0;34m=\u001b[0m \u001b[0mtuple\u001b[0m\u001b[0;34m(\u001b[0m\u001b[0mel_x\u001b[0m \u001b[0;34m+\u001b[0m \u001b[0;34m(\u001b[0m\u001b[0mt_span\u001b[0m\u001b[0;34m[\u001b[0m\u001b[0mi\u001b[0m\u001b[0;34m+\u001b[0m\u001b[0;36m1\u001b[0m\u001b[0;34m]\u001b[0m \u001b[0;34m-\u001b[0m \u001b[0mt_span\u001b[0m\u001b[0;34m[\u001b[0m\u001b[0mi\u001b[0m\u001b[0;34m]\u001b[0m\u001b[0;34m)\u001b[0m\u001b[0;34m*\u001b[0m\u001b[0mel_f\u001b[0m \u001b[0;32mfor\u001b[0m \u001b[0mel_x\u001b[0m\u001b[0;34m,\u001b[0m \u001b[0mel_f\u001b[0m \u001b[0;32min\u001b[0m \u001b[0mzip\u001b[0m\u001b[0;34m(\u001b[0m\u001b[0mx\u001b[0m\u001b[0;34m,\u001b[0m \u001b[0mf_\u001b[0m\u001b[0;34m)\u001b[0m\u001b[0;34m)\u001b[0m\u001b[0;34m\u001b[0m\u001b[0;34m\u001b[0m\u001b[0m\n\u001b[1;32m      7\u001b[0m         \u001b[0;32mfor\u001b[0m \u001b[0mel_sol\u001b[0m\u001b[0;34m,\u001b[0m \u001b[0mel_x\u001b[0m \u001b[0;32min\u001b[0m \u001b[0mzip\u001b[0m\u001b[0;34m(\u001b[0m\u001b[0msol\u001b[0m\u001b[0;34m,\u001b[0m \u001b[0mx\u001b[0m\u001b[0;34m)\u001b[0m\u001b[0;34m:\u001b[0m \u001b[0mel_sol\u001b[0m\u001b[0;34m.\u001b[0m\u001b[0mappend\u001b[0m\u001b[0;34m(\u001b[0m\u001b[0mel_x\u001b[0m\u001b[0;34m)\u001b[0m\u001b[0;34m\u001b[0m\u001b[0;34m\u001b[0m\u001b[0m\n",
      "\u001b[0;32m~/opt/anaconda3/lib/python3.8/site-packages/torch/nn/modules/module.py\u001b[0m in \u001b[0;36m_call_impl\u001b[0;34m(self, *input, **kwargs)\u001b[0m\n\u001b[1;32m   1049\u001b[0m         if not (self._backward_hooks or self._forward_hooks or self._forward_pre_hooks or _global_backward_hooks\n\u001b[1;32m   1050\u001b[0m                 or _global_forward_hooks or _global_forward_pre_hooks):\n\u001b[0;32m-> 1051\u001b[0;31m             \u001b[0;32mreturn\u001b[0m \u001b[0mforward_call\u001b[0m\u001b[0;34m(\u001b[0m\u001b[0;34m*\u001b[0m\u001b[0minput\u001b[0m\u001b[0;34m,\u001b[0m \u001b[0;34m**\u001b[0m\u001b[0mkwargs\u001b[0m\u001b[0;34m)\u001b[0m\u001b[0;34m\u001b[0m\u001b[0;34m\u001b[0m\u001b[0m\n\u001b[0m\u001b[1;32m   1052\u001b[0m         \u001b[0;31m# Do not call functions when jit is used\u001b[0m\u001b[0;34m\u001b[0m\u001b[0;34m\u001b[0m\u001b[0;34m\u001b[0m\u001b[0m\n\u001b[1;32m   1053\u001b[0m         \u001b[0mfull_backward_hooks\u001b[0m\u001b[0;34m,\u001b[0m \u001b[0mnon_full_backward_hooks\u001b[0m \u001b[0;34m=\u001b[0m \u001b[0;34m[\u001b[0m\u001b[0;34m]\u001b[0m\u001b[0;34m,\u001b[0m \u001b[0;34m[\u001b[0m\u001b[0;34m]\u001b[0m\u001b[0;34m\u001b[0m\u001b[0;34m\u001b[0m\u001b[0m\n",
      "\u001b[0;32m<ipython-input-9-4a6f46d7a3a1>\u001b[0m in \u001b[0;36mforward\u001b[0;34m(self, t, X)\u001b[0m\n\u001b[1;32m     17\u001b[0m         \u001b[0;31m# compute forces\u001b[0m\u001b[0;34m\u001b[0m\u001b[0;34m\u001b[0m\u001b[0;34m\u001b[0m\u001b[0m\n\u001b[1;32m     18\u001b[0m         \u001b[0mF_coh\u001b[0m \u001b[0;34m=\u001b[0m \u001b[0msheep_cohesion\u001b[0m\u001b[0;34m(\u001b[0m\u001b[0mA\u001b[0m\u001b[0;34m,\u001b[0m\u001b[0mA_COM\u001b[0m\u001b[0;34m)\u001b[0m\u001b[0;34m\u001b[0m\u001b[0;34m\u001b[0m\u001b[0m\n\u001b[0;32m---> 19\u001b[0;31m         \u001b[0mF_srep\u001b[0m \u001b[0;34m=\u001b[0m \u001b[0msheep_repulsion\u001b[0m\u001b[0;34m(\u001b[0m\u001b[0mA\u001b[0m\u001b[0;34m,\u001b[0m \u001b[0mβ\u001b[0m\u001b[0;34m=\u001b[0m\u001b[0;36m0.1\u001b[0m\u001b[0;34m,\u001b[0m \u001b[0mr\u001b[0m\u001b[0;34m=\u001b[0m\u001b[0;36m0.5\u001b[0m\u001b[0;34m)\u001b[0m\u001b[0;34m\u001b[0m\u001b[0;34m\u001b[0m\u001b[0m\n\u001b[0m\u001b[1;32m     20\u001b[0m         \u001b[0mF_ctrl\u001b[0m \u001b[0;34m=\u001b[0m \u001b[0mss_repulsion\u001b[0m\u001b[0;34m(\u001b[0m\u001b[0mA\u001b[0m\u001b[0;34m,\u001b[0m \u001b[0mS\u001b[0m\u001b[0;34m,\u001b[0m \u001b[0mα\u001b[0m\u001b[0;34m=\u001b[0m\u001b[0;36m0.1\u001b[0m\u001b[0;34m,\u001b[0m \u001b[0mr\u001b[0m\u001b[0;34m=\u001b[0m\u001b[0;36m0.1\u001b[0m\u001b[0;34m)\u001b[0m\u001b[0;34m\u001b[0m\u001b[0;34m\u001b[0m\u001b[0m\n\u001b[1;32m     21\u001b[0m         \u001b[0;31m# compute vector field\u001b[0m\u001b[0;34m\u001b[0m\u001b[0;34m\u001b[0m\u001b[0;34m\u001b[0m\u001b[0m\n",
      "\u001b[0;32m<ipython-input-5-1f409dc3f9e1>\u001b[0m in \u001b[0;36msheep_repulsion\u001b[0;34m(A, β, r)\u001b[0m\n\u001b[1;32m      3\u001b[0m     \u001b[0;32mfor\u001b[0m \u001b[0ma\u001b[0m \u001b[0;32min\u001b[0m \u001b[0mA\u001b[0m\u001b[0;34m:\u001b[0m\u001b[0;34m\u001b[0m\u001b[0;34m\u001b[0m\u001b[0m\n\u001b[1;32m      4\u001b[0m         \u001b[0mΔ\u001b[0m \u001b[0;34m=\u001b[0m \u001b[0mA\u001b[0m \u001b[0;34m-\u001b[0m \u001b[0ma\u001b[0m\u001b[0;34m\u001b[0m\u001b[0;34m\u001b[0m\u001b[0m\n\u001b[0;32m----> 5\u001b[0;31m         \u001b[0md\u001b[0m \u001b[0;34m=\u001b[0m \u001b[0mtorch\u001b[0m\u001b[0;34m.\u001b[0m\u001b[0mnorm\u001b[0m\u001b[0;34m(\u001b[0m\u001b[0mΔ\u001b[0m\u001b[0;34m,\u001b[0m \u001b[0mp\u001b[0m\u001b[0;34m=\u001b[0m\u001b[0;36m2\u001b[0m\u001b[0;34m,\u001b[0m \u001b[0mdim\u001b[0m\u001b[0;34m=\u001b[0m\u001b[0;34m-\u001b[0m\u001b[0;36m1\u001b[0m\u001b[0;34m,\u001b[0m \u001b[0mkeepdim\u001b[0m\u001b[0;34m=\u001b[0m\u001b[0;32mTrue\u001b[0m\u001b[0;34m)\u001b[0m \u001b[0;31m# torch.sqrt(torch.sum(Δ**2, 1))\u001b[0m\u001b[0;34m\u001b[0m\u001b[0;34m\u001b[0m\u001b[0m\n\u001b[0m\u001b[1;32m      6\u001b[0m         \u001b[0mf\u001b[0m \u001b[0;34m=\u001b[0m \u001b[0mβ\u001b[0m \u001b[0;34m*\u001b[0m \u001b[0mΔ\u001b[0m \u001b[0;34m/\u001b[0m \u001b[0;34m(\u001b[0m\u001b[0md\u001b[0m\u001b[0;34m**\u001b[0m\u001b[0;36m3\u001b[0m\u001b[0;34m)\u001b[0m\u001b[0;34m\u001b[0m\u001b[0;34m\u001b[0m\u001b[0m\n\u001b[1;32m      7\u001b[0m         \u001b[0mf\u001b[0m \u001b[0;34m=\u001b[0m \u001b[0mtorch\u001b[0m\u001b[0;34m.\u001b[0m\u001b[0mnan_to_num\u001b[0m\u001b[0;34m(\u001b[0m\u001b[0mf\u001b[0m\u001b[0;34m)\u001b[0m\u001b[0;34m\u001b[0m\u001b[0;34m\u001b[0m\u001b[0m\n",
      "\u001b[0;32m~/opt/anaconda3/lib/python3.8/site-packages/torch/functional.py\u001b[0m in \u001b[0;36mnorm\u001b[0;34m(input, p, dim, keepdim, out, dtype)\u001b[0m\n\u001b[1;32m   1301\u001b[0m             norm, (input,), input, p=p, dim=dim, keepdim=keepdim, out=out, dtype=dtype)\n\u001b[1;32m   1302\u001b[0m \u001b[0;34m\u001b[0m\u001b[0m\n\u001b[0;32m-> 1303\u001b[0;31m     \u001b[0mndim\u001b[0m \u001b[0;34m=\u001b[0m \u001b[0minput\u001b[0m\u001b[0;34m.\u001b[0m\u001b[0mdim\u001b[0m\u001b[0;34m(\u001b[0m\u001b[0;34m)\u001b[0m\u001b[0;34m\u001b[0m\u001b[0;34m\u001b[0m\u001b[0m\n\u001b[0m\u001b[1;32m   1304\u001b[0m \u001b[0;34m\u001b[0m\u001b[0m\n\u001b[1;32m   1305\u001b[0m     \u001b[0;31m# catch default case\u001b[0m\u001b[0;34m\u001b[0m\u001b[0;34m\u001b[0m\u001b[0;34m\u001b[0m\u001b[0m\n",
      "\u001b[0;31mKeyboardInterrupt\u001b[0m: "
     ]
    }
   ],
   "source": [
    "N_SHEEPS = n_agents = 40\n",
    "N_SHEPHERDS = 6\n",
    "T = 40\n",
    "H_DIM= 32\n",
    "BS = 1024\n",
    "EPOCHS = 5000\n",
    "\n",
    "def loss_fn(A_T, A_COM_T, V):\n",
    "    rogue_d = torch.cdist(A_T, A_COM_T)\n",
    "    loss = torch.mean(rogue_d) + (A_COM_T-torch.FloatTensor([10,10])) + V\n",
    "    return loss.mean()\n",
    "\n",
    "π = nn.Sequential(\n",
    "        nn.Linear(4*N_SHEEPS + 2*N_SHEPHERDS, H_DIM),\n",
    "        nn.Softplus(),\n",
    "        nn.Linear(H_DIM, H_DIM),\n",
    "        nn.Tanh(),\n",
    "        nn.Linear(H_DIM, 2*N_SHEPHERDS))\n",
    "\n",
    "# π = PolicyNetwork(N_SHEEPS, N_SHEPHERDS)\n",
    "odefunc = ODEFunc(π, N_SHEEPS, r=1)\n",
    "\n",
    "\n",
    "opt = torch.optim.Adam(odefunc.parameters(), lr=1e-2)\n",
    "X0 = (A0, V0, S0)\n",
    "X0 = tuple(x.requires_grad_(True) for x in X0)\n",
    "\n",
    "for epoch in range(EPOCHS):\n",
    "    # sample initial conditions\n",
    "\n",
    "    # integrate ODE between 0 and T\n",
    "    sol = euler(odefunc, X0, torch.linspace(0, T, 30))\n",
    "    sol_A, sol_V, _ = sol    \n",
    "    loss = sol_A[-1].mean()\n",
    "    #loss = loss_fn(A_T, A_COM_T, V)\n",
    "    \n",
    "    loss.backward()\n",
    "    opt.step()\n",
    "    opt.zero_grad()\n",
    "    \n",
    "    with torch.no_grad():\n",
    "        for p in π.parameters(): print(p.grad)\n",
    "        print(f\"epoch: {epoch},  loss:{loss}\", end=\"\\r\")"
   ]
  },
  {
   "cell_type": "code",
   "execution_count": 22,
   "metadata": {},
   "outputs": [],
   "source": [
    "sol_A, _, _  = euler(odefunc, X0, t_span)"
   ]
  },
  {
   "cell_type": "code",
   "execution_count": 24,
   "metadata": {},
   "outputs": [],
   "source": [
    "y = sol_A[-1].sum()"
   ]
  },
  {
   "cell_type": "code",
   "execution_count": 25,
   "metadata": {},
   "outputs": [],
   "source": [
    "y.backward()"
   ]
  },
  {
   "cell_type": "code",
   "execution_count": 26,
   "metadata": {},
   "outputs": [
    {
     "name": "stdout",
     "output_type": "stream",
     "text": [
      "None\n",
      "None\n",
      "None\n",
      "None\n",
      "None\n",
      "None\n"
     ]
    }
   ],
   "source": [
    "for p in odefunc.parameters(): print(p.grad)"
   ]
  },
  {
   "cell_type": "code",
   "execution_count": 29,
   "metadata": {},
   "outputs": [
    {
     "name": "stdout",
     "output_type": "stream",
     "text": [
      "tensor([[-12.1966,  -8.7317,  -4.0128, -22.6198,  -9.4617, -10.9010,  -0.8697,\n",
      "           4.0375,  -0.1822,  -5.0845],\n",
      "        [-12.1966,  -8.7317,  -4.0128, -22.6198,  -9.4617, -10.9010,  -0.8697,\n",
      "           4.0375,  -0.1822,  -5.0845],\n",
      "        [-12.1966,  -8.7317,  -4.0128, -22.6198,  -9.4617, -10.9010,  -0.8697,\n",
      "           4.0375,  -0.1822,  -5.0845],\n",
      "        [-12.1966,  -8.7317,  -4.0128, -22.6198,  -9.4617, -10.9010,  -0.8697,\n",
      "           4.0375,  -0.1822,  -5.0845],\n",
      "        [-12.1966,  -8.7317,  -4.0128, -22.6198,  -9.4617, -10.9010,  -0.8697,\n",
      "           4.0375,  -0.1822,  -5.0845],\n",
      "        [-12.1966,  -8.7317,  -4.0128, -22.6198,  -9.4617, -10.9010,  -0.8697,\n",
      "           4.0375,  -0.1822,  -5.0845],\n",
      "        [-12.1966,  -8.7317,  -4.0128, -22.6198,  -9.4617, -10.9010,  -0.8697,\n",
      "           4.0375,  -0.1822,  -5.0845],\n",
      "        [-12.1966,  -8.7317,  -4.0128, -22.6198,  -9.4617, -10.9010,  -0.8697,\n",
      "           4.0375,  -0.1822,  -5.0845],\n",
      "        [-12.1966,  -8.7317,  -4.0128, -22.6198,  -9.4617, -10.9010,  -0.8697,\n",
      "           4.0375,  -0.1822,  -5.0845],\n",
      "        [-12.1966,  -8.7317,  -4.0128, -22.6198,  -9.4617, -10.9010,  -0.8697,\n",
      "           4.0375,  -0.1822,  -5.0845]])\n",
      "tensor([100., 100., 100., 100., 100., 100., 100., 100., 100., 100.])\n"
     ]
    }
   ],
   "source": [
    "l = nn.Linear(10, 10)\n",
    "x = torch.randn(100, 10)\n",
    "y = l(x).sum()\n",
    "y.backward()\n",
    "\n",
    "for p in l.parameters(): print(p.grad)"
   ]
  },
  {
   "cell_type": "code",
   "execution_count": null,
   "metadata": {},
   "outputs": [],
   "source": []
  },
  {
   "cell_type": "code",
   "execution_count": null,
   "metadata": {},
   "outputs": [],
   "source": []
  },
  {
   "cell_type": "code",
   "execution_count": null,
   "metadata": {},
   "outputs": [],
   "source": []
  },
  {
   "cell_type": "code",
   "execution_count": null,
   "metadata": {},
   "outputs": [],
   "source": []
  },
  {
   "cell_type": "code",
   "execution_count": null,
   "metadata": {},
   "outputs": [],
   "source": []
  },
  {
   "cell_type": "markdown",
   "metadata": {},
   "source": [
    "### Junk Test Codes"
   ]
  },
  {
   "cell_type": "code",
   "execution_count": 396,
   "metadata": {},
   "outputs": [
    {
     "data": {
      "text/plain": [
       "tensor(0.2315)"
      ]
     },
     "execution_count": 396,
     "metadata": {},
     "output_type": "execute_result"
    }
   ],
   "source": [
    "a=torch.randn(4,4)\n",
    "torch.mean(a)"
   ]
  },
  {
   "cell_type": "code",
   "execution_count": 404,
   "metadata": {},
   "outputs": [
    {
     "ename": "RuntimeError",
     "evalue": "cdist only supports at least 2D tensors, X2 got: 1D",
     "output_type": "error",
     "traceback": [
      "\u001b[0;31m---------------------------------------------------------------------------\u001b[0m",
      "\u001b[0;31mRuntimeError\u001b[0m                              Traceback (most recent call last)",
      "\u001b[0;32m<ipython-input-404-fbcc678c6744>\u001b[0m in \u001b[0;36m<module>\u001b[0;34m\u001b[0m\n\u001b[1;32m      1\u001b[0m \u001b[0ma\u001b[0m\u001b[0;34m=\u001b[0m\u001b[0mtorch\u001b[0m\u001b[0;34m.\u001b[0m\u001b[0mFloatTensor\u001b[0m\u001b[0;34m(\u001b[0m\u001b[0;34m[\u001b[0m\u001b[0;34m[\u001b[0m\u001b[0;36m0\u001b[0m\u001b[0;34m,\u001b[0m\u001b[0;36m0\u001b[0m\u001b[0;34m]\u001b[0m\u001b[0;34m,\u001b[0m\u001b[0;34m[\u001b[0m\u001b[0;36m0\u001b[0m\u001b[0;34m,\u001b[0m\u001b[0;36m1\u001b[0m\u001b[0;34m]\u001b[0m\u001b[0;34m]\u001b[0m\u001b[0;34m)\u001b[0m\u001b[0;34m\u001b[0m\u001b[0;34m\u001b[0m\u001b[0m\n\u001b[1;32m      2\u001b[0m \u001b[0mb\u001b[0m\u001b[0;34m=\u001b[0m\u001b[0mtorch\u001b[0m\u001b[0;34m.\u001b[0m\u001b[0mFloatTensor\u001b[0m\u001b[0;34m(\u001b[0m\u001b[0;34m[\u001b[0m\u001b[0;36m3\u001b[0m\u001b[0;34m,\u001b[0m\u001b[0;36m3\u001b[0m\u001b[0;34m]\u001b[0m\u001b[0;34m)\u001b[0m\u001b[0;34m\u001b[0m\u001b[0;34m\u001b[0m\u001b[0m\n\u001b[0;32m----> 3\u001b[0;31m \u001b[0mc\u001b[0m\u001b[0;34m=\u001b[0m\u001b[0mtorch\u001b[0m\u001b[0;34m.\u001b[0m\u001b[0mcdist\u001b[0m\u001b[0;34m(\u001b[0m\u001b[0ma\u001b[0m\u001b[0;34m,\u001b[0m \u001b[0mb\u001b[0m\u001b[0;34m,\u001b[0m \u001b[0mp\u001b[0m\u001b[0;34m=\u001b[0m\u001b[0;36m2\u001b[0m\u001b[0;34m)\u001b[0m\u001b[0;34m\u001b[0m\u001b[0;34m\u001b[0m\u001b[0m\n\u001b[0m",
      "\u001b[0;32m~/opt/anaconda3/lib/python3.8/site-packages/torch/functional.py\u001b[0m in \u001b[0;36mcdist\u001b[0;34m(x1, x2, p, compute_mode)\u001b[0m\n\u001b[1;32m   1047\u001b[0m             cdist, (x1, x2), x1, x2, p=p, compute_mode=compute_mode)\n\u001b[1;32m   1048\u001b[0m     \u001b[0;32mif\u001b[0m \u001b[0mcompute_mode\u001b[0m \u001b[0;34m==\u001b[0m \u001b[0;34m'use_mm_for_euclid_dist_if_necessary'\u001b[0m\u001b[0;34m:\u001b[0m\u001b[0;34m\u001b[0m\u001b[0;34m\u001b[0m\u001b[0m\n\u001b[0;32m-> 1049\u001b[0;31m         \u001b[0;32mreturn\u001b[0m \u001b[0m_VF\u001b[0m\u001b[0;34m.\u001b[0m\u001b[0mcdist\u001b[0m\u001b[0;34m(\u001b[0m\u001b[0mx1\u001b[0m\u001b[0;34m,\u001b[0m \u001b[0mx2\u001b[0m\u001b[0;34m,\u001b[0m \u001b[0mp\u001b[0m\u001b[0;34m,\u001b[0m \u001b[0;32mNone\u001b[0m\u001b[0;34m)\u001b[0m  \u001b[0;31m# type: ignore[attr-defined]\u001b[0m\u001b[0;34m\u001b[0m\u001b[0;34m\u001b[0m\u001b[0m\n\u001b[0m\u001b[1;32m   1050\u001b[0m     \u001b[0;32melif\u001b[0m \u001b[0mcompute_mode\u001b[0m \u001b[0;34m==\u001b[0m \u001b[0;34m'use_mm_for_euclid_dist'\u001b[0m\u001b[0;34m:\u001b[0m\u001b[0;34m\u001b[0m\u001b[0;34m\u001b[0m\u001b[0m\n\u001b[1;32m   1051\u001b[0m         \u001b[0;32mreturn\u001b[0m \u001b[0m_VF\u001b[0m\u001b[0;34m.\u001b[0m\u001b[0mcdist\u001b[0m\u001b[0;34m(\u001b[0m\u001b[0mx1\u001b[0m\u001b[0;34m,\u001b[0m \u001b[0mx2\u001b[0m\u001b[0;34m,\u001b[0m \u001b[0mp\u001b[0m\u001b[0;34m,\u001b[0m \u001b[0;36m1\u001b[0m\u001b[0;34m)\u001b[0m  \u001b[0;31m# type: ignore[attr-defined]\u001b[0m\u001b[0;34m\u001b[0m\u001b[0;34m\u001b[0m\u001b[0m\n",
      "\u001b[0;31mRuntimeError\u001b[0m: cdist only supports at least 2D tensors, X2 got: 1D"
     ]
    }
   ],
   "source": [
    "a=torch.FloatTensor([[0,0],[0,1]])\n",
    "b=torch.FloatTensor([3,3])\n",
    "c=torch.cdist(a, b, p=2)"
   ]
  },
  {
   "cell_type": "code",
   "execution_count": null,
   "metadata": {},
   "outputs": [],
   "source": []
  }
 ],
 "metadata": {
  "kernelspec": {
   "display_name": "Python 3",
   "language": "python",
   "name": "python3"
  },
  "language_info": {
   "codemirror_mode": {
    "name": "ipython",
    "version": 3
   },
   "file_extension": ".py",
   "mimetype": "text/x-python",
   "name": "python",
   "nbconvert_exporter": "python",
   "pygments_lexer": "ipython3",
   "version": "3.8.8"
  }
 },
 "nbformat": 4,
 "nbformat_minor": 4
}
